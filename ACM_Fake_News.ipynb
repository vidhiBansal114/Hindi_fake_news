{
  "nbformat": 4,
  "nbformat_minor": 0,
  "metadata": {
    "colab": {
      "provenance": []
    },
    "kernelspec": {
      "name": "python3",
      "display_name": "Python 3"
    },
    "language_info": {
      "name": "python"
    }
  },
  "cells": [
    {
      "cell_type": "markdown",
      "metadata": {
        "id": "HBsV7sQ79MTY"
      },
      "source": [
        "# **Accuracy with  10.0 % test data **\n",
        "{'Logistic Regression': 0.7285067873303167, ' GaussianNB': 0.6470588235294118, 'KNN': 0.6561085972850679, 'Random Forest': 0.7828054298642534, 'decision tree': 0.7104072398190046, 'SVM': 0.7420814479638009, 'GradientBoostingClassifier': 0.7737556561085973, 'DL': 0.5565611124038696}\n",
        "\n",
        "\n",
        "# **Accuracy with  20.0 % test data**  \n",
        "{'Logistic Regression': 0.7398190045248869, ' GaussianNB': 0.6063348416289592, 'KNN': 0.6787330316742082, 'Random Forest': 0.7714932126696833, 'decision tree': 0.7081447963800905, 'SVM': 0.746606334841629, 'GradientBoostingClassifier': 0.7850678733031674, 'DL': 0.5950226187705994}\n",
        "\n",
        "#**Accuracy with  30.0 % test data **\n",
        " {'Logistic Regression': 0.7265861027190332, ' GaussianNB': 0.6148036253776435, 'KNN': 0.6510574018126888, 'Random Forest': 0.7749244712990937, 'decision tree': 0.7039274924471299, 'SVM': 0.7386706948640483, 'GradientBoostingClassifier': 0.7673716012084593, 'DL': 0.6042296290397644}\n",
        "\n",
        "#**Accuracy with  40.0 % test data **\n",
        "{'Logistic Regression': 0.7361268403171007, ' GaussianNB': 0.609286523216308, 'KNN': 0.6761041902604756, 'Random Forest': 0.7644394110985278, 'decision tree': 0.6987542468856173, 'SVM': 0.7315968289920725, 'GradientBoostingClassifier': 0.753114382785957, 'DL': 0.5979614853858948}"
      ]
    },
    {
      "cell_type": "code",
      "metadata": {
        "id": "YQQgOtzdjwhV"
      },
      "source": [
        "import pandas as pd"
      ],
      "execution_count": null,
      "outputs": []
    },
    {
      "cell_type": "code",
      "metadata": {
        "colab": {
          "base_uri": "https://localhost:8080/"
        },
        "id": "m9I-iqkMltki",
        "outputId": "382977e8-2430-4ef4-d676-67ea46a09985"
      },
      "source": [
        "from google.colab import drive\n",
        "drive.mount(\"/content/gdrive\")"
      ],
      "execution_count": null,
      "outputs": [
        {
          "output_type": "stream",
          "name": "stdout",
          "text": [
            "Mounted at /content/gdrive\n"
          ]
        }
      ]
    },
    {
      "cell_type": "code",
      "metadata": {
        "colab": {
          "resources": {
            "http://localhost:8080/nbextensions/google.colab/files.js": {
              "data": "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",
              "ok": true,
              "headers": [
                [
                  "content-type",
                  "application/javascript"
                ]
              ],
              "status": 200,
              "status_text": ""
            }
          },
          "base_uri": "https://localhost:8080/",
          "height": 73
        },
        "id": "NRLZqvThl75N",
        "outputId": "1b4a6120-ce15-4b15-8377-cfa1dc8eac75"
      },
      "source": [
        "from google.colab import files\n",
        "uploaded = files.upload()"
      ],
      "execution_count": null,
      "outputs": [
        {
          "output_type": "display_data",
          "data": {
            "text/html": [
              "\n",
              "     <input type=\"file\" id=\"files-4f7b0b18-b108-419e-9dac-a5bef6937d55\" name=\"files[]\" multiple disabled\n",
              "        style=\"border:none\" />\n",
              "     <output id=\"result-4f7b0b18-b108-419e-9dac-a5bef6937d55\">\n",
              "      Upload widget is only available when the cell has been executed in the\n",
              "      current browser session. Please rerun this cell to enable.\n",
              "      </output>\n",
              "      <script src=\"/nbextensions/google.colab/files.js\"></script> "
            ],
            "text/plain": [
              "<IPython.core.display.HTML object>"
            ]
          },
          "metadata": {}
        },
        {
          "output_type": "stream",
          "name": "stdout",
          "text": [
            "Saving acm_datasetFinalUsed (1).csv to acm_datasetFinalUsed (1).csv\n"
          ]
        }
      ]
    },
    {
      "cell_type": "code",
      "metadata": {
        "colab": {
          "base_uri": "https://localhost:8080/",
          "height": 417
        },
        "id": "2GzqeQhZn4eI",
        "outputId": "41971e23-d1d6-4ba5-d4ca-4e93217fcb6e"
      },
      "source": [
        "import numpy as np\n",
        "df=pd.read_csv(\"acm_datasetFinalUsed (1).csv\")\n",
        "df.columns =['heading', 'text', 'link','output']\n",
        "df['text'].replace('', np.nan, inplace=True)\n",
        "\n",
        "df.dropna(subset=['text'], inplace=True)\n",
        "df['output'].replace('', np.nan, inplace=True)\n",
        "\n",
        "df.dropna(subset=['output'], inplace=True)\n",
        "\n",
        "df['link'].replace('', np.nan, inplace=True)\n",
        "\n",
        "df.dropna(subset=['link'], inplace=True)\n",
        "df = df.dropna(axis=0, how='any', thresh=None, subset=None, inplace=False)\n",
        "df=df.drop(['heading','link'], axis = 1)\n",
        "df = df.dropna(axis=0, how='any', thresh=None, subset=None, inplace=False)\n",
        "df"
      ],
      "execution_count": null,
      "outputs": [
        {
          "output_type": "execute_result",
          "data": {
            "text/html": [
              "<div>\n",
              "<style scoped>\n",
              "    .dataframe tbody tr th:only-of-type {\n",
              "        vertical-align: middle;\n",
              "    }\n",
              "\n",
              "    .dataframe tbody tr th {\n",
              "        vertical-align: top;\n",
              "    }\n",
              "\n",
              "    .dataframe thead th {\n",
              "        text-align: right;\n",
              "    }\n",
              "</style>\n",
              "<table border=\"1\" class=\"dataframe\">\n",
              "  <thead>\n",
              "    <tr style=\"text-align: right;\">\n",
              "      <th></th>\n",
              "      <th>text</th>\n",
              "      <th>output</th>\n",
              "    </tr>\n",
              "  </thead>\n",
              "  <tbody>\n",
              "    <tr>\n",
              "      <th>0</th>\n",
              "      <td>हैशटैग तस्वीर शेयर ओवैसी पोस्टर कालिख लगी देखी...</td>\n",
              "      <td>1</td>\n",
              "    </tr>\n",
              "    <tr>\n",
              "      <th>1</th>\n",
              "      <td>हैशटैग तस्वीर शेयर ओवैसी पोस्टर कालिख लगी देखी...</td>\n",
              "      <td>1</td>\n",
              "    </tr>\n",
              "    <tr>\n",
              "      <th>2</th>\n",
              "      <td>हैशटैग तस्वीर शेयर ओवैसी पोस्टर कालिख लगी देखी...</td>\n",
              "      <td>1</td>\n",
              "    </tr>\n",
              "    <tr>\n",
              "      <th>3</th>\n",
              "      <td>तस्वीर रिवर्स सर्च हमें 'जागरण' 24 सितंबर 2019...</td>\n",
              "      <td>0</td>\n",
              "    </tr>\n",
              "    <tr>\n",
              "      <th>4</th>\n",
              "      <td>मामले और=_खबरें प्रकाशित थीं.</td>\n",
              "      <td>0</td>\n",
              "    </tr>\n",
              "    <tr>\n",
              "      <th>...</th>\n",
              "      <td>...</td>\n",
              "      <td>...</td>\n",
              "    </tr>\n",
              "    <tr>\n",
              "      <th>2201</th>\n",
              "      <td>हालांकि पक्षियों टॉवरों से==_टकराकर मौत खासकर ...</td>\n",
              "      <td>0</td>\n",
              "    </tr>\n",
              "    <tr>\n",
              "      <th>2202</th>\n",
              "      <td>दावा भारत पक्षियों मौत ट्रायल है, बेबुनियाद भी...</td>\n",
              "      <td>0</td>\n",
              "    </tr>\n",
              "    <tr>\n",
              "      <th>2203</th>\n",
              "      <td>सत्ता को आईना दिखाने वाली पत्रकारिता का कॉरपोर...</td>\n",
              "      <td>0</td>\n",
              "    </tr>\n",
              "    <tr>\n",
              "      <th>2204</th>\n",
              "      <td>तस्वीर==_फे़सबुक शेयर</td>\n",
              "      <td>1</td>\n",
              "    </tr>\n",
              "    <tr>\n",
              "      <th>2205</th>\n",
              "      <td>ऑल्ट न्यूज़ तस्वीर ‘’ कीवर्ड रिवर्स इमेज सर्च ह...</td>\n",
              "      <td>0</td>\n",
              "    </tr>\n",
              "  </tbody>\n",
              "</table>\n",
              "<p>2206 rows × 2 columns</p>\n",
              "</div>"
            ],
            "text/plain": [
              "                                                   text  output\n",
              "0     हैशटैग तस्वीर शेयर ओवैसी पोस्टर कालिख लगी देखी...       1\n",
              "1     हैशटैग तस्वीर शेयर ओवैसी पोस्टर कालिख लगी देखी...       1\n",
              "2     हैशटैग तस्वीर शेयर ओवैसी पोस्टर कालिख लगी देखी...       1\n",
              "3     तस्वीर रिवर्स सर्च हमें 'जागरण' 24 सितंबर 2019...       0\n",
              "4                         मामले और=_खबरें प्रकाशित थीं.       0\n",
              "...                                                 ...     ...\n",
              "2201  हालांकि पक्षियों टॉवरों से==_टकराकर मौत खासकर ...       0\n",
              "2202  दावा भारत पक्षियों मौत ट्रायल है, बेबुनियाद भी...       0\n",
              "2203  सत्ता को आईना दिखाने वाली पत्रकारिता का कॉरपोर...       0\n",
              "2204                              तस्वीर==_फे़सबुक शेयर       1\n",
              "2205  ऑल्ट न्यूज़ तस्वीर ‘’ कीवर्ड रिवर्स इमेज सर्च ह...       0\n",
              "\n",
              "[2206 rows x 2 columns]"
            ]
          },
          "metadata": {},
          "execution_count": 6
        }
      ]
    },
    {
      "cell_type": "code",
      "metadata": {
        "id": "06kym-IjoKSF"
      },
      "source": [
        "from sklearn.linear_model import LogisticRegression\n",
        "from sklearn.multiclass import OneVsRestClassifier\n",
        "from sklearn.model_selection import train_test_split\n",
        "size=[0.1,0.2,0.3,0.4]\n",
        "from sklearn.feature_extraction.text import TfidfVectorizer\n",
        "from sklearn.metrics import accuracy_score\n",
        "from sklearn.naive_bayes import GaussianNB\n",
        "from sklearn.neighbors import KNeighborsClassifier\n",
        "from sklearn.ensemble import RandomForestClassifier\n",
        "from sklearn.ensemble import GradientBoostingClassifier\n",
        "import keras\n",
        "from keras.datasets import mnist\n",
        "from keras.models import Sequential\n",
        "from keras.layers import CuDNNLSTM, Dense, Dropout, LSTM\n",
        "from tensorflow.keras.optimizers import Adam"
      ],
      "execution_count": null,
      "outputs": []
    },
    {
      "cell_type": "code",
      "metadata": {
        "colab": {
          "base_uri": "https://localhost:8080/"
        },
        "id": "icFnsu7uokLF",
        "outputId": "eac6261e-389e-43b4-88fb-93b614d81b52"
      },
      "source": [
        "\n",
        "for m in size:\n",
        "      x_train, x_test = train_test_split(df, test_size=m)\n",
        "      '''\n",
        "      x_tr=[]\n",
        "      for i in x_train['text'].astype(str):\n",
        "      print(i)\n",
        "      if i not in stopword:\n",
        "\n",
        "      x_tr.append(i)\n",
        "      x_ts=[]\n",
        "      for i in x_test['text'].astype(str):\n",
        "      if i not in stopword:\n",
        "      x_ts.append(i)\n",
        "\n",
        "      '''\n",
        "      y_train=x_train['output']\n",
        "\n",
        "      y_test=x_test['output']\n",
        "\n",
        "      from sklearn.feature_extraction.text import TfidfVectorizer\n",
        "      vectorizer=TfidfVectorizer()\n",
        "\n",
        "      x_train=vectorizer.fit_transform(x_train['text'].astype(str))\n",
        "\n",
        "      x_test=vectorizer.transform(x_test['text'].astype(str))\n",
        "\n",
        "\n",
        "      x_test = x_test.toarray()\n",
        "      x_train = x_train.toarray()\n",
        "      #LR---------------------------------------\n",
        "      lr = LogisticRegression()\n",
        "\n",
        "      ovr=OneVsRestClassifier(lr)\n",
        "      ovr.fit(x_train,y_train)\n",
        "      y_pred=ovr.predict(x_test)\n",
        "      accuracy=[]\n",
        "      accuracy.append(accuracy_score(y_test, y_pred))\n",
        "      #print(accuracy_score(y_test, y_pred))\n",
        "      #gnb----------------------------------\n",
        "      clf = GaussianNB()\n",
        "      ovr=OneVsRestClassifier(clf)\n",
        "      ovr.fit(x_train,y_train)\n",
        "      y_pred=ovr.predict(x_test)\n",
        "      accuracy.append(accuracy_score(y_test, y_pred))\n",
        "      #print(accuracy_score(y_test, y_pred))\n",
        "      #KNN---------------------------------------------------\n",
        "      clf = KNeighborsClassifier(n_neighbors=5)\n",
        "      ovr=OneVsRestClassifier(clf)\n",
        "      ovr.fit(x_train,y_train)\n",
        "      y_pred=ovr.predict(x_test)\n",
        "      accuracy.append(accuracy_score(y_test, y_pred))\n",
        "      #print(accuracy_score(y_test, y_pred))\n",
        "      #RandomForest----------------------------------------------\n",
        "      clf = RandomForestClassifier(max_depth=100, random_state=0)\n",
        "      ovr=OneVsRestClassifier(clf)\n",
        "      ovr.fit(x_train,y_train)\n",
        "      y_pred=ovr.predict(x_test)\n",
        "      accuracy.append(accuracy_score(y_test, y_pred))\n",
        "      #print(accuracy_score(y_test, y_pred))\n",
        "      #svm--------------------------------------------------------------\n",
        "      from sklearn import svm\n",
        "      clf = svm.SVC()\n",
        "      from sklearn.tree import DecisionTreeClassifier\n",
        "      d=DecisionTreeClassifier()\n",
        "      d.fit(x_train,y_train)\n",
        "      y_pred=d.predict(x_test)\n",
        "      accuracy.append(accuracy_score(y_test, y_pred))\n",
        "      #GradientBoostingClassifier------------------------------------------\n",
        "      gbc=GradientBoostingClassifier()\n",
        "      gbc.fit(x_train,y_train)\n",
        "      y_pred=gbc.predict(x_test)\n",
        "      accuracy.append(accuracy_score(y_test, y_pred))\n",
        "      #print(accuracy_score(y_test,y_pred))\n",
        "      ovr=OneVsRestClassifier(clf)\n",
        "      ovr.fit(x_train,y_train)\n",
        "      y_pred=ovr.predict(x_test)\n",
        "      accuracy.append(accuracy_score(y_test, y_pred))\n",
        "      #DL-----------------------------------------------------\n",
        "\n",
        "      '''\n",
        "      MAX_NB_WORDS = 50000\n",
        "      EMBEDDING_DIM = 100\n",
        "      model = Sequential()\n",
        "      from keras.callbacks import ModelCheckpoint, EarlyStopping\n",
        "      from keras.layers import Embedding\n",
        "      model.add(Embedding(MAX_NB_WORDS, EMBEDDING_DIM, input_length=x_train.shape[1]))\n",
        "      model.add(Dropout(0.2))\n",
        "      model.add(LSTM(100, dropout=0.2, recurrent_dropout=0.2))\n",
        "      model.add(Dense(1, activation='sigmoid'))\n",
        "      model.compile(loss='categorical_crossentropy', optimizer='adam', metrics=['accuracy'])\n",
        "\n",
        "      epochs = 10\n",
        "      batch_size = 64\n",
        "\n",
        "      history = model.fit(x_train, y_train, epochs=epochs, batch_size=batch_size,callbacks=[EarlyStopping(monitor='accuracy', patience=3, min_delta=0.0001)])\n",
        "      accr = model.evaluate(x_test,y_test)\n",
        "      accuracy.append(accr[1])\n",
        "      #print('Test set\\n  Loss: {:0.3f}\\n  Accuracy: {:0.3f}'.format(accr[0],accr[1]))\n",
        "      '''\n",
        "      # creating the dataset\n",
        "      data = dict()\n",
        "      #print(\"accuracy with \"+ m*100+\"% test data\")\n",
        "      algo=[\"Logistic Regression\",\" GaussianNB\",\"KNN\",\"Random Forest\",\"decision tree\",\"SVM\",\"GradientBoostingClassifier\"]\n",
        "      for i in range(7):\n",
        "        data[algo[i]]=accuracy[i]\n",
        "      print(\"Accuracy with \", str(m*100),\"% test data \",data)\n",
        "\n"
      ],
      "execution_count": null,
      "outputs": [
        {
          "output_type": "stream",
          "name": "stdout",
          "text": [
            "Accuracy with  10.0 % test data  {'Logistic Regression': 0.751131221719457, ' GaussianNB': 0.6380090497737556, 'KNN': 0.6877828054298643, 'Random Forest': 0.7601809954751131, 'decision tree': 0.7149321266968326, 'SVM': 0.8009049773755657, 'GradientBoostingClassifier': 0.7873303167420814}\n",
            "Accuracy with  20.0 % test data  {'Logistic Regression': 0.7149321266968326, ' GaussianNB': 0.5972850678733032, 'KNN': 0.7081447963800905, 'Random Forest': 0.751131221719457, 'decision tree': 0.7330316742081447, 'SVM': 0.746606334841629, 'GradientBoostingClassifier': 0.751131221719457}\n",
            "Accuracy with  30.0 % test data  {'Logistic Regression': 0.7401812688821753, ' GaussianNB': 0.6193353474320241, 'KNN': 0.6858006042296072, 'Random Forest': 0.7673716012084593, 'decision tree': 0.7326283987915407, 'SVM': 0.7643504531722054, 'GradientBoostingClassifier': 0.7552870090634441}\n",
            "Accuracy with  40.0 % test data  {'Logistic Regression': 0.7202718006795017, ' GaussianNB': 0.6172140430351076, 'KNN': 0.6613816534541337, 'Random Forest': 0.7383918459796149, 'decision tree': 0.6908267270668177, 'SVM': 0.7406568516421291, 'GradientBoostingClassifier': 0.7372593431483578}\n"
          ]
        }
      ]
    },
    {
      "cell_type": "code",
      "metadata": {
        "id": "UORKSNVGr3Y_"
      },
      "source": [],
      "execution_count": null,
      "outputs": []
    }
  ]
}